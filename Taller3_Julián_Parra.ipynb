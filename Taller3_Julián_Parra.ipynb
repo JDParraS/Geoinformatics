{
 "cells": [
  {
   "cell_type": "markdown",
   "metadata": {},
   "source": [
    "# Capítulo 4 - Ejercicios"
   ]
  },
  {
   "cell_type": "markdown",
   "metadata": {},
   "source": [
    "### Ejercicio 1\n",
    "\n",
    "Modifique el programa del problema 3.6 para calcular la presión litosférica \n",
    "con una función propia dentro del programa.\n",
    "\n"
   ]
  },
  {
   "cell_type": "code",
   "execution_count": 3,
   "metadata": {},
   "outputs": [
    {
     "name": "stdout",
     "output_type": "stream",
     "text": [
      "                    h(km)            Presión (MPa)\n",
      "                       25               651.700\n",
      "                       20               521.360\n",
      "                        4               104.272\n",
      "                        3                78.204\n",
      "                        2                52.136\n",
      "                        1                26.068\n"
     ]
    }
   ],
   "source": [
    "# presión litosférica \n",
    "# con función interna\n",
    "#Se importa el módulo necesario\n",
    "import numpy as np\n",
    "\n",
    "#Se define la función mediante el comando def, y se le da el nombre de PL\n",
    "def PL(a):\n",
    "    '''\n",
    "    Este programa calcula la presión hidrostática en MPa a partir de la profundiad en km \n",
    "    mediante la fórmula P = g * h * p, donde g es la aceleración gravitacional, h es profundidad,\n",
    "    y p densidad del granito en kg/m^3. Además ell valor ingresado debe ser mayor a\n",
    "    0 y menor a 25 debido a que esta presión hidrostática es calculada para la corteza\n",
    "    Valores de entrada:\n",
    "    - a = profundidad en kilómetros (km)\n",
    "    Valores de salida:\n",
    "    - p = presión hidrostática en megapascales (MPa)\n",
    "    '''\n",
    "    #Se convierten los kilómetros a metros multiplicando el valor inicial \"a\" por mil \n",
    "    a = a*1000                 \n",
    "    \n",
    "    #Se establece un valor de entrada mayor a 0 m y menor a 25000 m (espesor de la corteza,\n",
    "    #valor tomado de un taller anterior)\n",
    "    if a > 0 and a <= 25000:\n",
    "        \n",
    "        #Se hace el cálculo de la presión hidrostática mediante la fórmula citada anteriormente,\n",
    "        #tomando la densidad del granito como 2660 kg/m^3, y una aceleración gravitacional de \n",
    "        #9.9 m/s^2\n",
    "        p = 9.8*2660*a\n",
    "        \n",
    "        #Para una lectura del resultado mas práctica, se convierten los pascales resultantes del\n",
    "        #cálculo anterior a megapascales, ésto mediante la división de p/1000000 \n",
    "        p = p *1e-6\n",
    "       \n",
    "    #Finalmente se establece el valor de salida \"p\". En caso de que el valor de entrada \"a\"\n",
    "    #no se encunetre en el rango establecido, el valor de salida \"p\" no va a ser definido: p = None.\n",
    "    #No se imprime ninguna petición de valores de entrada, ni advertencia respecto a valores de \"a\"\n",
    "    #fuera del rango establecido, debido a que sería muy poco práctico al utilizar esta función\n",
    "    #regularmente\n",
    "    return p\n",
    "    \n",
    "#Es posible probar esta función mediante una tabla \n",
    "print(\"%25s%25s\"%(\"h(km)\",\"Presión (MPa)\"))\n",
    "\n",
    "#Valores de prueba\n",
    "prueba = np.array([25,20,4,3,2,1])\n",
    "\n",
    "#Se llena la tabla\n",
    "for i in prueba:\n",
    "    \n",
    "    #Se utiliza la función\n",
    "    sol = PL(i)\n",
    "    \n",
    "    #Se imprimen los resultados\n",
    "    print(\"%25.0f%22.3f\"%(i,sol))\n",
    "    \n",
    "#Es importante recalcar que debido a que no calcula valores negativos ni 0, al introducir alguno de estos \n",
    "#en la matriz \"prueba\" va a imprimir la parte positiva, y posterior a esto nos va a mandar el error\n",
    "#\"local variable 'p' referenced before assignment\""
   ]
  },
  {
   "cell_type": "markdown",
   "metadata": {},
   "source": [
    "### Ejercicio 2\n",
    "\n",
    "Modifique el programa del problema 3.6 para calcular calcular la presión litosférica con una función propia en un módulo propio. Ponga el módulo en el folder donde está trabajando.\n",
    "\n"
   ]
  },
  {
   "cell_type": "code",
   "execution_count": 4,
   "metadata": {},
   "outputs": [
    {
     "name": "stdout",
     "output_type": "stream",
     "text": [
      "Escriba la profundidad en km y en un rango mayor a 0 y menor o igual a 25, 0 para terminar: \n",
      "30\n",
      "recuerde introducir un valor mayor a 0 y menor o igual a 25 km, 0 para terminar\n",
      "\n",
      "Escriba la profundidad en km y en un rango mayor a 0 y menor o igual a 25, 0 para terminar: \n",
      "25\n",
      "la presión hidrostática para un valor de 25 Km es 651.700 MPa\n",
      "\n",
      "Escriba la profundidad en km y en un rango mayor a 0 y menor o igual a 25, 0 para terminar: \n",
      "10\n",
      "la presión hidrostática para un valor de 10 Km es 260.680 MPa\n",
      "\n",
      "Escriba la profundidad en km y en un rango mayor a 0 y menor o igual a 25, 0 para terminar: \n",
      "1\n",
      "la presión hidrostática para un valor de  1 Km es 26.068 MPa\n",
      "\n",
      "Escriba la profundidad en km y en un rango mayor a 0 y menor o igual a 25, 0 para terminar: \n",
      "-3\n",
      "recuerde introducir un valor mayor a 0 y menor o igual a 25 km, 0 para terminar\n",
      "\n",
      "Escriba la profundidad en km y en un rango mayor a 0 y menor o igual a 25, 0 para terminar: \n",
      "0\n",
      "gracias por utiliar el programa\n"
     ]
    }
   ],
   "source": [
    "# presión litosférica \n",
    "# con función en Modulo propio\n",
    "\n",
    "#Se importa el módulo en cuestión \n",
    "import clase.ModTall3 as mod\n",
    "\n",
    "#En este caso y para variar al punto anterior, se hace un programa donde nos pida reiteradamente\n",
    "#el valor al cual calcularle la presión hidrostática\n",
    "while True:\n",
    "    \n",
    "    #Se utiliza el comando input para pedirle reiteradamente al usuario el valor\n",
    "    h = float(input(\"Escriba la profundidad en km y en un rango mayor a 0 y menor o igual a 25, 0 para terminar: \\n\"))\n",
    "    \n",
    "    #Si el valor está en el rango establecido se procede a calcular la presión , y a imprimir el\n",
    "    #resultado\n",
    "    if 0 < h <= 25:\n",
    "        p = mod.PL(h)\n",
    "        print(\"la presión hidrostática para un valor de %2.0f Km es %6.3f MPa\\n\"%(h,p))\n",
    "    \n",
    "    #Se termina el programa en caso de que se introduzca el valor 0, no sin antes darle gracias\n",
    "    #al usuario\n",
    "    elif h == 0:\n",
    "        print(\"gracias por utiliar el programa\")\n",
    "        break\n",
    "    \n",
    "    #En caso de que el valor introducido no se encuentre en el rango deseado, ni sea 0, se le \n",
    "    #recuerda al usuario cuales son los valores válidos para esta función \n",
    "    else:\n",
    "        print(\"recuerde introducir un valor mayor a 0 y menor o igual a 25 km, 0 para terminar\\n\")\n"
   ]
  },
  {
   "cell_type": "markdown",
   "metadata": {},
   "source": [
    "### Ejercicio 3\n",
    "\n",
    "Cree un paquete (que puede llamar class, con los sub folders que Ud. desee \n",
    "para poner todas las rutinas del curso y que Ud. pueda utilizar en el futuro. \n",
    "\n",
    "#### Este ejercicio no necesita respuesta en el Notebook."
   ]
  },
  {
   "cell_type": "code",
   "execution_count": 23,
   "metadata": {},
   "outputs": [
    {
     "name": "stdout",
     "output_type": "stream",
     "text": [
      "['C:\\\\Users\\\\Julia\\\\Documents\\\\Universidad\\\\Semestre 10\\\\Geoinformática\\\\Programas', 'C:\\\\Users\\\\Julia\\\\Documents\\\\Universidad\\\\Modulos', 'C:\\\\Users\\\\Julia\\\\Documents\\\\Universidad\\\\Semestre 10\\\\Geoinformática\\\\Programas', 'C:\\\\Users\\\\Julia\\\\anaconda3\\\\envs\\\\geopython\\\\python37.zip', 'C:\\\\Users\\\\Julia\\\\anaconda3\\\\envs\\\\geopython\\\\DLLs', 'C:\\\\Users\\\\Julia\\\\anaconda3\\\\envs\\\\geopython\\\\lib', 'C:\\\\Users\\\\Julia\\\\anaconda3\\\\envs\\\\geopython', '', 'C:\\\\Users\\\\Julia\\\\anaconda3\\\\envs\\\\geopython\\\\lib\\\\site-packages', 'C:\\\\Users\\\\Julia\\\\anaconda3\\\\envs\\\\geopython\\\\lib\\\\site-packages\\\\win32', 'C:\\\\Users\\\\Julia\\\\anaconda3\\\\envs\\\\geopython\\\\lib\\\\site-packages\\\\win32\\\\lib', 'C:\\\\Users\\\\Julia\\\\anaconda3\\\\envs\\\\geopython\\\\lib\\\\site-packages\\\\Pythonwin', 'C:\\\\Users\\\\Julia\\\\anaconda3\\\\envs\\\\geopython\\\\lib\\\\site-packages\\\\IPython\\\\extensions', 'C:\\\\Users\\\\Julia\\\\.ipython']\n"
     ]
    }
   ],
   "source": [
    "import sys\n",
    "print(sys.path)"
   ]
  },
  {
   "cell_type": "markdown",
   "metadata": {},
   "source": [
    "Se observa que la primera carpeta en la que busca es en programas, donde se instaló Geopython y se tiene abierto jupyter. La segunda carpeta es Módulos, donde se van a guardar todos los módulos y packages que se crearán a futuro "
   ]
  },
  {
   "cell_type": "markdown",
   "metadata": {},
   "source": [
    "### Ejercicio 4\n",
    "\n",
    "Cree una función propia (dentro de su **package** propio o dentro del programa) en Python que calcule el volumen y circunferencia de una esfera, si el usuario proporciona el radio. Haga un programa principal que solicite el radio al usuario, y haga que éste sea estable, que no acepte números negativos, y que imprima el resultado. \n"
   ]
  },
  {
   "cell_type": "code",
   "execution_count": 26,
   "metadata": {},
   "outputs": [],
   "source": [
    "#Se procede a hacer la función en el programa, sin embargo también se encuentra en\n",
    "#el package propio dentro del computador.\n",
    "\n",
    "def VR(r):\n",
    "    '''\n",
    "    Este programa calcula el volumen y la circunferencia de una esfera \n",
    "    a partir de un valor en metros, devuelve como primer valor el volumen\n",
    "    y como segundo valor la circunferencia\n",
    "    '''\n",
    "    \n",
    "    #Se importa el módulo necesario\n",
    "    import math as m\n",
    "    \n",
    "    #Se define \"v\" como el volumen de la esfera a partir de r mediante la fórmula\n",
    "    #de volumen de una esfera\n",
    "    v = (4/3)*m.pi*r**3\n",
    "    \n",
    "    #Se define \"c\" como la circunferencia de la esfera a partir de r mediante la\n",
    "    #fórmula de circunferencia de una esfera\n",
    "    c = 2*m.pi*r\n",
    "    \n",
    "    #Finalmente se devuelven los valores de volumen: \"v\" y de circunferencia \"c\"\n",
    "    return v,c   "
   ]
  },
  {
   "cell_type": "code",
   "execution_count": 2,
   "metadata": {},
   "outputs": [
    {
     "name": "stdout",
     "output_type": "stream",
     "text": [
      "Escriba el radio de la esfera como valor positivo y en metros, 0 para terminar: \n",
      "334\n",
      "Para una esfera cuyo radio es 334.0000000000 m:\n",
      " Volumen: 156073083.1484403014 m^3\n",
      " Circunferencia: 2098.5838925980 m\n",
      "\n",
      "Escriba el radio de la esfera como valor positivo y en metros, 0 para terminar: \n",
      "23\n",
      "Para una esfera cuyo radio es 23.0000000000 m:\n",
      " Volumen: 50965.0104216360 m^3\n",
      " Circunferencia: 144.5132620651 m\n",
      "\n",
      "Escriba el radio de la esfera como valor positivo y en metros, 0 para terminar: \n",
      "2\n",
      "Para una esfera cuyo radio es 2.0000000000 m:\n",
      " Volumen: 33.5103216383 m^3\n",
      " Circunferencia: 12.5663706144 m\n",
      "\n",
      "Escriba el radio de la esfera como valor positivo y en metros, 0 para terminar: \n",
      "0.0003\n",
      "Para una esfera cuyo radio es 0.0003000000 m:\n",
      " Volumen: 0.0000000001 m^3\n",
      " Circunferencia: 0.0018849556 m\n",
      "\n",
      "Escriba el radio de la esfera como valor positivo y en metros, 0 para terminar: \n",
      "-4\n",
      "solo se acepta el radio como valor positivo, 0 para terminar\n",
      "\n",
      "Escriba el radio de la esfera como valor positivo y en metros, 0 para terminar: \n",
      "0\n",
      "gracias por utilizar el programa\n"
     ]
    }
   ],
   "source": [
    "#Se importa el módulo en cuestión \n",
    "import clase.ModTall3 as mod\n",
    "\n",
    "#Se crea el while loop para pedir reiteradamente valores al usuario\n",
    "while True:\n",
    "    r = float(input(\"Escriba el radio de la esfera como valor positivo y en metros, 0 para terminar: \\n\"))\n",
    "    \n",
    "    #Se calcula el volumen y el radio de la esfera en caso de que se introduzcan\n",
    "    #valores positivos \n",
    "    if r > 0:\n",
    "        v,c = mod.VR(r)\n",
    "        print(\"Para una esfera cuyo radio es %7.10f m:\\n Volumen: %7.10f m^3\\n Circunferencia: %7.10f m\\n\"%(r,v,c))\n",
    "    \n",
    "    #En caso de que el valor introducido sea 0, se cierra el programa\n",
    "    if r == 0:\n",
    "        print(\"gracias por utilizar el programa\")\n",
    "        break\n",
    "    \n",
    "    #Si el valor introducido no es ni positivo, ni 0, se le recuerda al usuario \n",
    "    #que los valores admitidos tienen que ser positivos\n",
    "    if r < 0:\n",
    "        print(\"solo se acepta el radio como valor positivo, 0 para terminar\\n\")"
   ]
  },
  {
   "cell_type": "markdown",
   "metadata": {},
   "source": [
    "### Ejercicio 5\n",
    "\n",
    "Realmente los astronautas experimentan *gravedad cero*? La siguiente ecuación (asumiendo un planeta esféricamente simétrico) muestra la aceleración de la gravedad $g = a_G$ de una masa $m$ debido a la masa de la Tierra $M_E$ en función a la distancia $r$ con respecto al centro del planeta. La aceleración tiene dirección al centro de la Tierra. \n",
    "$$\n",
    "a_G = G \\frac{M}{r^2}\n",
    "$$\n",
    "Asumiendo la constante gravitacional es $G = 6.67430e-11$ y que la masa de la Tierra $M_E=5.972e24$ kg, usando **funciones propias en lo posible** calcule la aceleración en la superficie de la Tierra a 0, 10, 100, 1000, 10000 km de altura. También defina el porcentaje de aceleración para un astronatura a esas alturas, comparado con una persona en la superficie de la Tierra.  \n"
   ]
  },
  {
   "cell_type": "code",
   "execution_count": null,
   "metadata": {},
   "outputs": [],
   "source": [
    "#Es importante recalcar que todas estas funciones aquí citadas se encuentran en un módulo\n",
    "#cuyo nombre es \"ModTall3\", ubicado en el disco duro del computador, sin embargo se escriben\n",
    "#acá para facilitar la lectura. \n",
    "\n",
    "\n",
    "def acg(r):\n",
    "    '''\n",
    "    A partir de la altura en km respecto a la superficie de \n",
    "    la tierra (siendo ésta perfectamente esférica) se \n",
    "    calcula la aceleración en m/s^2 mediante la fórmula de aceleración\n",
    "    a = G*(M/r**2)\n",
    "    Valores de entrada:\n",
    "    - r = altura en km\n",
    "    Valores de salida\n",
    "    - a = aceleración, en m/s^2\n",
    "    '''\n",
    "    #Se convierte la altura respecto a la superficie en distancia entre objeto al \n",
    "    #cual calcularle aceleración, y el centro de masa de la tierra. \n",
    "    r = r*1000 + 6371000\n",
    "    \n",
    "    #Se calcula la aceleración mediante la fórmula citada anteriormente\n",
    "    a = 6.67430e-11*(5.972e24/r**2)\n",
    "    \n",
    "    #Finalmente se devuelve la aceleración resultante\n",
    "    return a\n",
    "\n",
    "def porc(a,b):\n",
    "    '''\n",
    "    A partir de dos valores se hace un cálculo simple\n",
    "    para comparar \"a\" respecto a \"b\" en porcentaje mediante\n",
    "    una simple regla de 3:\n",
    "        a ---> x\n",
    "        b ---> 100\n",
    "        x = (a*100)/b\n",
    "    Valores de entrada:\n",
    "    a = número a comparar respecto a \"b\" \n",
    "    b = número del cual se compara \"a\" \n",
    "    Valores de salida:\n",
    "    c = fracción de a respecto a b en porcentaje\n",
    "    '''\n",
    "    #Mediante una simple regla de tres se calcula la relación de\n",
    "    #\"a\" respecto a \"b\" en porcentaje \n",
    "    c = (a/b)*100\n",
    "    \n",
    "    #Finalmente se devuelve la relación \"c\"\n",
    "    return c\n",
    "\n",
    "def mat(a,b):\n",
    "    '''\n",
    "    Crea una matriz con un número de valores \"a\",\n",
    "    siendo estos valores exponenciales, comenzando \n",
    "    desde 0 y en base a el número \"b\"\n",
    "    Valores de entrada:\n",
    "    - a = número de valores en la matriz \n",
    "    - b = número el cual va a ser la base para el cálculo \n",
    "        exponencial \n",
    "    Valores de salida:\n",
    "    - m = matriz cuyo tamaño es \"a\", en donde cada número\n",
    "        aumenta \"b\" veces respecto al anterior\n",
    "    nota: el número de valores a incluye al 0\n",
    "    '''\n",
    "    \n",
    "    #Se importa el módulo necesario\n",
    "    import numpy as np\n",
    "    \n",
    "    #Se crea una matriz inicial de tamaño \"a\", en  la cual se introducirán los valores\n",
    "    m = np.zeros(a)\n",
    "    \n",
    "    #Se introducen los valores b**a mediante un for loop, como se observa a continuación:\n",
    "    #\"a\" comienza en 1 y termina en a-1, por lo tanto el resultado del for loop será\n",
    "    #b^1, posterior a esto b^2, e irá reemplazando este resultado en la matriz \"m\", hasta llegar a \n",
    "    #b^(a-1)\n",
    "    for a in np.arange(1,a):\n",
    "        m[a] = b**a\n",
    "    \n",
    "    #Finalmente se establece como valor de salida la matriz resultante \n",
    "    return m"
   ]
  },
  {
   "cell_type": "code",
   "execution_count": 2,
   "metadata": {},
   "outputs": [
    {
     "name": "stdout",
     "output_type": "stream",
     "text": [
      "          altura(Km)   aceleración(m/s²)      comparación(%)\n",
      "          ____________________________________________________\n",
      "               0.000               9.820             100.000\n",
      "              10.000               9.789              99.687\n",
      "             100.000               9.519              96.933\n",
      "            1000.000               7.336              74.707\n",
      "           10000.000               1.487              15.145\n"
     ]
    }
   ],
   "source": [
    "#Se importa el módulo que contienen todas las funciones, también descritas anteriormente\n",
    "import clase.ModTall3 as mod\n",
    "\n",
    "#Se pprocede a hacer la matriz que contiene los valores 0, 10, 100, 1000, y 1000\n",
    "#Km, mediante la función \"mat\"\n",
    "m = mod.mat(5,10)\n",
    "\n",
    "#Se utiliza la función \"acg\" para calcular la aceleración gravitacional de los valores\n",
    "#de la matriz \"m\", a esta nueva matriz se le llama \"a\"\n",
    "a = mod.acg(m)\n",
    "\n",
    "#Se utiliza la función \"porc\" para comparar las aceleraciones de astronautas a diferentes\n",
    "#alturas(matriz \"m\") respecto a la aceleración en superficie (valor : m[0])\n",
    "p = mod.porc(a,a[0])\n",
    "\n",
    "#Se imprime el título de la gráfica y su separación de los datos\n",
    "print(\"%20s%20s%20s\\n          ____________________________________________________\"%(\"altura(Km)\",\"aceleración(m/s²)\",\"comparación(%)\"))\n",
    "\n",
    "#Finalmente mediante un comando for se imprimen los datos de la tabla: altura, aceleración,\n",
    "#y comparación.\n",
    "for i in range(5):\n",
    "    print(\"%20.3f%20.3f%20.3f\"%(m[i],a[i],p[i]))"
   ]
  },
  {
   "cell_type": "markdown",
   "metadata": {},
   "source": [
    "Como se puede observar en la tabla, a distancias entre 0 y 10000 km de altura respecto a la superficie terrestre, sigue habiendo aceleración producida por la tierra, sin embargo, ésta se ve disminuida exponencialmente a medida que aumenta la distancia, lo que sucede con los astronautas es que son sometidos a caida libre y da la sencación de estar suspendidos en el espacio sin afectación gravitacional de la tierra, sin embargo esto es falso."
   ]
  }
 ],
 "metadata": {
  "kernelspec": {
   "display_name": "Python 3",
   "language": "python",
   "name": "python3"
  },
  "language_info": {
   "codemirror_mode": {
    "name": "ipython",
    "version": 3
   },
   "file_extension": ".py",
   "mimetype": "text/x-python",
   "name": "python",
   "nbconvert_exporter": "python",
   "pygments_lexer": "ipython3",
   "version": "3.7.8"
  }
 },
 "nbformat": 4,
 "nbformat_minor": 4
}
