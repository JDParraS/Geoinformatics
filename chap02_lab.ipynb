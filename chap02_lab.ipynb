{
 "cells": [
  {
   "cell_type": "markdown",
   "metadata": {
    "colab_type": "text",
    "id": "Ns1Dq-muw0IL"
   },
   "source": [
    "# Capítulo 2\n",
    "## Primeros pasos con Python\n",
    "Agosto 27, 2020"
   ]
  },
  {
   "cell_type": "markdown",
   "metadata": {
    "colab_type": "text",
    "id": "XEQoGW79w0IM"
   },
   "source": [
    "## Mi primer programa de Python\n",
    "\n",
    "El primer programa que escribiremos en Python es, el clásico,`hola mundo!`.\n",
    "\n",
    "En este ejercicio, si está usando Jupyter Notebooks, simplemente se puede correr el código \n",
    "en una de las celdas (cells) abajo y simplemente ejecutarlo. Si Ud. quiere crear un script en Python, requiere de un editor de texto plano (vi, jed, xemacs, gedit. . . elija su favorito). El archivo creado debe tener la extensión\n",
    "`.py` y lo podemos llamar `hola.py`. \n",
    "\n",
    "Mi primer programa contiene las siguientes lineas:"
   ]
  },
  {
   "cell_type": "code",
   "execution_count": 1,
   "metadata": {
    "colab": {},
    "colab_type": "code",
    "id": "k6tWrdvcw0IN"
   },
   "outputs": [
    {
     "name": "stdout",
     "output_type": "stream",
     "text": [
      "Hola Mundo!\n"
     ]
    }
   ],
   "source": [
    "print(\"Hola Mundo!\")"
   ]
  },
  {
   "cell_type": "markdown",
   "metadata": {
    "colab_type": "text",
    "id": "t8KZApYaw0IR"
   },
   "source": [
    "Una segunda versión de este programa puede ser más informativo.\n",
    "\n",
    "Escriba el mismo programa, pero ahora\n",
    "ponga más información en comentarios, \n",
    "para que el usuario que lo vea sepa\n",
    "qué es lo que hace el programa.\n"
   ]
  },
  {
   "cell_type": "code",
   "execution_count": 2,
   "metadata": {},
   "outputs": [
    {
     "name": "stdout",
     "output_type": "stream",
     "text": [
      "Hola Mundo¡\n"
     ]
    }
   ],
   "source": [
    "#Este programa, imprime el texto\n",
    "#o las variables que contenta\n",
    "#por ejemplo cuando tengo print(\"djfodfjo\")\n",
    "#al ejecutarlo tenemos como resultado \"djfodfjo\"\n",
    "print(\"Hola Mundo¡\") "
   ]
  },
  {
   "cell_type": "markdown",
   "metadata": {
    "colab_type": "text",
    "id": "yjZluVVTw0IU"
   },
   "source": [
    "### Observaciones\n",
    "\n",
    "El código `hola.py` tiene varias características\n",
    "- El resultado es idéntico a la versión más sencilla.\n",
    "- Las dos primeras líneas comienzan con el símbolo #\n",
    "- Hay una linea que se encuentra vacía. \n"
   ]
  },
  {
   "cell_type": "markdown",
   "metadata": {
    "colab_type": "text",
    "id": "obdUa8mAw0IV"
   },
   "source": [
    "### Explicación\n",
    "Las primeras dos lineas del código es un comentario. Cualquier texto después de\n",
    "un símbolo # es un comentario y Python no lo tiene en cuenta. Al terminar la\n",
    "linea termina el comentario. No hay necesidad de terminar el comentario con\n",
    "otro símbolo (aunque en otros lenguajes esto si es necesario). También es posible\n",
    "hacer comentarios dentro de una línea.\n",
    "\n",
    "La tercera linea es una linea en blanco. Python no tiene en cuenta estas\n",
    "lineas, y se puede poner tantas lineas en blanco como se quiera, ya que serán\n",
    "descartadas por Python. El uso de lineas en blanco permite hacer el código mas\n",
    "fácil de leer, y permite escribir el código en bloques pequeños y separados.\n",
    "\n",
    "La siguiente linea si es interpretada por el programa. El comando `print`\n",
    "ordena que en la terminal se imprima el texto que está dentro del paréntesis.\n",
    "Para lineas de texto, deben ir entre comillas o comillas dobles."
   ]
  },
  {
   "cell_type": "markdown",
   "metadata": {
    "colab_type": "text",
    "id": "c1V9xot6w0IV"
   },
   "source": [
    "#### Hazlo tu mismo\n",
    "\n",
    "Cree una versión de `hola.py` con comentarios, explicando que hace el comando `print`."
   ]
  },
  {
   "cell_type": "code",
   "execution_count": 5,
   "metadata": {
    "colab": {},
    "colab_type": "code",
    "id": "b630Fi4Iw0IV",
    "scrolled": true
   },
   "outputs": [
    {
     "name": "stdout",
     "output_type": "stream",
     "text": [
      "hola mundo¡¡¡\n",
      "hola mundo¡¡¡\n"
     ]
    }
   ],
   "source": [
    "print (\"hola mundo¡¡¡\") #lo que hace es mostrar la frase o el valor de las variables \n",
    "                        #tenga en su interior\n",
    "print (\"hola mundo¡¡¡\") \"\"\"\n",
    "                        lo que hace es mostrar la frase o el valor de las variables \n",
    "                        tenga en su interior\n",
    "                        \"\"\"\n",
    "                        "
   ]
  },
  {
   "cell_type": "markdown",
   "metadata": {
    "colab_type": "text",
    "id": "8-V_YJ00w0IY"
   },
   "source": [
    "## Alternativas para mi primer programa\n",
    "\n",
    "Python (y otros languajes de programación) pueden asignarle a una variable (`x`, `y` o `var`) una serie de caracteres. \n"
   ]
  },
  {
   "cell_type": "code",
   "execution_count": 6,
   "metadata": {
    "colab": {},
    "colab_type": "code",
    "id": "koop7ezSw0IZ"
   },
   "outputs": [
    {
     "name": "stdout",
     "output_type": "stream",
     "text": [
      "hoolaa\n"
     ]
    }
   ],
   "source": [
    "# hola3.py\n",
    "# Otras alternativas para el programa\n",
    "\n",
    "\"\"\"\n",
    "Asignar variable x con el \n",
    "texto que quiere imprimir\n",
    "\"\"\"\n",
    "x=\"hoolaa\"\n",
    "print(x)"
   ]
  },
  {
   "cell_type": "code",
   "execution_count": 8,
   "metadata": {},
   "outputs": [
    {
     "name": "stdout",
     "output_type": "stream",
     "text": [
      "<class 'str'>\n"
     ]
    }
   ],
   "source": [
    "x\n",
    "print(type(x))"
   ]
  },
  {
   "cell_type": "markdown",
   "metadata": {
    "colab_type": "text",
    "id": "1jn0Rnlpw0Ia"
   },
   "source": [
    "#### Hazlo tu mismo\n",
    "\n",
    "Asigna el contenido del texto que quiere imprimir a dos o más variables. En Python se puede concatenar (*pegar*) las variables con una suma (`+`)."
   ]
  },
  {
   "cell_type": "code",
   "execution_count": 1,
   "metadata": {
    "colab": {},
    "colab_type": "code",
    "id": "Xb_eCkWhw0Ib"
   },
   "outputs": [
    {
     "name": "stdout",
     "output_type": "stream",
     "text": [
      "mi edad es: 24 años\n"
     ]
    }
   ],
   "source": [
    "# hola4.py\n",
    "# Otras alternativas para el programa\n",
    "\n",
    "\"\"\"\n",
    "Asignar tres variables (x,y,z), pegarlas para \n",
    "el mismo resultado.\n",
    "\"\"\"\n",
    "x= \"mi edad es:\"\n",
    "y=24\n",
    "z= \"años\"\n",
    "\n",
    "print(x,y,z)\n",
    "\n",
    "\n",
    "\n"
   ]
  },
  {
   "cell_type": "markdown",
   "metadata": {
    "colab_type": "text",
    "id": "5fxMOeQUw0Id"
   },
   "source": [
    "### Observaciones\n",
    "\n",
    "Note que en este último ejemplo, realizamos una operación para pegar variables\n",
    "con caracteres. Con el fin de separar las palabras en las variables `x` y `y`, se pone\n",
    "un espacio. El resultado de estos dos programas es idéntico al primero."
   ]
  },
  {
   "cell_type": "markdown",
   "metadata": {
    "colab_type": "text",
    "id": "TZ4I1Z-nw0Id"
   },
   "source": [
    "## Multiplicación de dos números enteros\n",
    "\n",
    "A continuación, queremos realizar operaciones matemáticas en Python, que es algo común en la investigación científica. \n",
    "\n"
   ]
  },
  {
   "cell_type": "markdown",
   "metadata": {
    "colab_type": "text",
    "id": "CRwAcQy0w0Ie"
   },
   "source": [
    "#### Hazlo tu mismo\n",
    "\n",
    "Multiplicar dos números enteros (`2` y `3`). \n"
   ]
  },
  {
   "cell_type": "code",
   "execution_count": 25,
   "metadata": {
    "colab": {},
    "colab_type": "code",
    "id": "jhRa5I-pw0If"
   },
   "outputs": [
    {
     "name": "stdout",
     "output_type": "stream",
     "text": [
      "<class 'int'>\n",
      "<class 'float'>\n"
     ]
    },
    {
     "data": {
      "text/plain": [
       "2"
      ]
     },
     "execution_count": 25,
     "metadata": {},
     "output_type": "execute_result"
    }
   ],
   "source": [
    "# multint.py\n",
    "# Código para multiplicar dos números enteros\n",
    "C=2*3\n",
    "print(type(c))\n",
    "print(type(4/5))\n",
    "int(2.9999)\n",
    "\n"
   ]
  },
  {
   "cell_type": "markdown",
   "metadata": {
    "colab_type": "text",
    "id": "-sJFr-Olw0Ig"
   },
   "source": [
    "### Explicación\n",
    "\n",
    "El programa usa tres variables, las letras `a`, `b` y `c`. Las variables pueden tener\n",
    "nombres largos, pero no pueden tener espacios. Si quiere unir palabras use `_`.\n",
    "El primer caracter de una variable debe ser una letra, el resto puede ser una\n",
    "combinación de letras, números y `_`. No se recomienda usar puntos o símbolos\n",
    "de menos (`-`), ya que esto significa resta para Python. El resultado del programa anterior da como resultado `6`, como es de esperarse. \n",
    "\n",
    "### Observaciones\n",
    "A diferencia de Fortran o C, Python define de manera automática si un número es entero o real, aunque si el usuario así lo prefiere, puede definir la variable como entero:\n",
    "\n",
    "`a = int(2)`\n",
    "\n",
    "`b = int(3)`\n",
    "\n",
    "Cuando esto sucede, Python asume entonces que `c` será un número entero. Aparentemente\n",
    "en Python existía un problema cuando se dividían dos números enteros y la respuesta era un real, no un entero. En versiones recientes de Python (3.4 o mayor) ese problema no se presenta.\n",
    "\n",
    "\n"
   ]
  },
  {
   "cell_type": "code",
   "execution_count": 27,
   "metadata": {
    "colab": {},
    "colab_type": "code",
    "id": "hq4Dq3D1w0Ih"
   },
   "outputs": [
    {
     "data": {
      "text/plain": [
       "0.6666666666666666"
      ]
     },
     "execution_count": 27,
     "metadata": {},
     "output_type": "execute_result"
    }
   ],
   "source": [
    "a = int(2)\n",
    "\n",
    "b = int(3) \n",
    "\n",
    "a/b\n"
   ]
  },
  {
   "cell_type": "code",
   "execution_count": 30,
   "metadata": {
    "colab": {},
    "colab_type": "code",
    "id": "Jmy4XWPuw0Ij"
   },
   "outputs": [
    {
     "name": "stdout",
     "output_type": "stream",
     "text": [
      "<class 'float'>\n",
      "1.5\n"
     ]
    }
   ],
   "source": [
    "numero=b/a\n",
    "print(type(numero))\n",
    "print(numero)"
   ]
  },
  {
   "cell_type": "markdown",
   "metadata": {
    "colab_type": "text",
    "id": "1EclNEKmw0Il"
   },
   "source": [
    "El símbolo `*` indica multiplicación casi como en la mayoría de lenguajes de programación. Adición es `+`, resta es `-` y división es `/`. En Python, para elevar un número `a` a la `b` potencia, se escribe `a**b`, y las dos variables pueden ser reales."
   ]
  },
  {
   "cell_type": "markdown",
   "metadata": {
    "colab_type": "text",
    "id": "DSidyphiw0Il"
   },
   "source": [
    "#### Hazlo tu mismo\n",
    "\n",
    "Eleve un número entero (`a=2.01`) a la `b=3.2` potencia.\n",
    "$$\n",
    "c = a^b\n",
    "$$"
   ]
  },
  {
   "cell_type": "code",
   "execution_count": 2,
   "metadata": {
    "colab": {},
    "colab_type": "code",
    "id": "2Nc4bKchw0Im"
   },
   "outputs": [
    {
     "name": "stdout",
     "output_type": "stream",
     "text": [
      "2.01\n",
      "2.01 3.2 9.337430530829119\n",
      "el resultado de 2.01 elevado a la 3.2 es: 9.337430530829119\n"
     ]
    }
   ],
   "source": [
    "# int_elev.py\n",
    "\"\"\"\n",
    "Codigo simple para elevar un número entero a la b \n",
    "potencia. Imprima el resultado\n",
    "\"\"\"\n",
    "a=2.01\n",
    "b=3.2\n",
    "c=a**b\n",
    "print(a)\n",
    "print(a,b,c)\n",
    "print(\"el resultado de\",a,\"elevado a la\",b,\"es:\",c)\n",
    "\n",
    "\n",
    "\n"
   ]
  },
  {
   "cell_type": "markdown",
   "metadata": {
    "colab_type": "text",
    "id": "oVE_Vc6Iw0Io"
   },
   "source": [
    "## Una tabla trigonométrica con `for` loops\n",
    "\n",
    "Cualquier lenguaje de programación debe permitir realizar una serie de operaciones\n",
    "de manera repetida. Esto significa permitir realizar un **loop** para una\n",
    "serie de valores de una variable. En Fortran se hace con un `do` loop, en C o matlab, esto se lleva a cabo con un `for` loop, en . Python usa `for`. "
   ]
  },
  {
   "cell_type": "markdown",
   "metadata": {
    "colab_type": "text",
    "id": "XoqA2S54w0Io"
   },
   "source": [
    "#### Ejemplo. \n",
    "\n",
    "Genere la tabla del 7 (7x0, 7x1, 7x2, ...), los for loops se llaman diferente dependiendo el programa en donde se mire, por ejemnplo en el lenguaje c++ se utiliza el doloop "
   ]
  },
  {
   "cell_type": "code",
   "execution_count": 4,
   "metadata": {
    "colab": {},
    "colab_type": "code",
    "id": "bTxn2J37w0Ip"
   },
   "outputs": [
    {
     "name": "stdout",
     "output_type": "stream",
     "text": [
      "7 x 0  =  0\n",
      "7 x 1  =  7\n",
      "7 x 2  =  14\n",
      "7 x 3  =  21\n",
      "7 x 4  =  28\n",
      "7 x 5  =  35\n",
      "7 x 6  =  42\n",
      "7 x 7  =  49\n",
      "7 x 8  =  56\n",
      "7 x 9  =  63\n",
      "\n",
      "se acabó el loop, gracias\n"
     ]
    }
   ],
   "source": [
    "# mult_table.py\n",
    "# Genere la tabla de multiplicar del 7. \n",
    "\n",
    "x = 7                          # la tabla del 7\n",
    "\n",
    "for y in range(10):            # loop 0, 1, 2, ..., 9\n",
    "    z = x*y\n",
    "    print(x,'x',y,' = ',z)\n",
    "\n",
    "print(\"\")\n",
    "print(\"se acabó el loop, gracias\")\n",
    "    "
   ]
  },
  {
   "cell_type": "markdown",
   "metadata": {
    "colab_type": "text",
    "id": "gwFUGPnHw0Ir"
   },
   "source": [
    "### Explicación\n",
    "\n",
    "El `for` loop es un comando que ejecuta una serie de comandos (que deben estar indentados). El número de veces o la forma como los ejecuta depende código\n",
    "\n",
    "`for y in range(10):`\n",
    "\n",
    "have que la variable `y` tome valores en un rango de `0` hasta `9`. Es decir repite la operación 10 veces, empezando en cero, hasta llegar al nueve. Porqué Python no incluye el 10? El comando `range` genera 10 números, pero Python (como C, C++) empiezan el contéo con el cero, es decir (0, 1, 2, ..., 9), para un total de 10 números. \n",
    "\n",
    "Como se puede ver, en el primer *loop*, `y=0`, en el segundo `y=1` y así sucesivamente. \n"
   ]
  },
  {
   "cell_type": "markdown",
   "metadata": {
    "colab_type": "text",
    "id": "Sm8cbbtmw0Ir"
   },
   "source": [
    "Una segunda opción de código\n"
   ]
  },
  {
   "cell_type": "code",
   "execution_count": 12,
   "metadata": {
    "colab": {},
    "colab_type": "code",
    "id": "ODnzE2iOw0Ir"
   },
   "outputs": [
    {
     "name": "stdout",
     "output_type": "stream",
     "text": [
      "8 x 0  =  0\n",
      "8 x 1  =  8\n",
      "8 x 2  =  16\n",
      "8 x 3  =  24\n",
      "8 x 4  =  32\n",
      "8 x 5  =  40\n",
      "8 x 6  =  48\n",
      "8 x 7  =  56\n",
      "8 x 8  =  64\n",
      "8 x 9  =  72\n"
     ]
    },
    {
     "data": {
      "text/plain": [
       "array([0, 1, 2, 3, 4, 5, 6, 7, 8, 9])"
      ]
     },
     "execution_count": 12,
     "metadata": {},
     "output_type": "execute_result"
    }
   ],
   "source": [
    "# mult_table2.py\n",
    "import numpy as np\n",
    "\n",
    "x = 7+1                  # la tabla del 7\n",
    "i = np.arange(10)        ## np.arange crea un vector, este caso este vector\n",
    "                         ## es ([0, 1, 2 , 3, 4 , 5 ,6 , 7, 8, 9,])\n",
    "\n",
    "\"\"\"\n",
    "Genere la tabla de multiplicar del 7. \n",
    "Ahora use numpy\n",
    "\"\"\"\n",
    "for y in i:           # loop 0, 1, 2, ..., 9\n",
    "    z = x*y\n",
    "    print(x,'x',y,' = ',z)\n",
    "i"
   ]
  },
  {
   "cell_type": "markdown",
   "metadata": {
    "colab_type": "text",
    "id": "EmqCKqwfw0It"
   },
   "source": [
    "### Explicación\n",
    "\n",
    "Como se puede observar, el resultado de esta segunda versión del código es la misma a la anterior, pero tiene más cosas. \n",
    "\n",
    "****NOTA IMPORTANTE**** \n",
    "\n",
    "Python tiene una larga lista de librerías\n",
    "(conocidas como *modules*, o *packages*) para realizar operaciones de todo tipo. Para poder\n",
    "utilizarlas en un programa, es necesario cargarlas. Esto se realiza con el comando\n",
    "`import`. En este caso, importamos el paquete NumPy.  \n",
    "\n",
    "`import numpy as np`\n",
    "\n",
    "NumPy tiene multiples funciones para realizar operaciones en variables, vectores, etc.\n",
    "Para usar una función dentro de NumPy, si debe llamar el paquete y la función. Para que esta operación no sea muy larga, le ponemos un\n",
    "nombre más corto `np`. Esto permite usar la función `arange` dentro de NumPy, y generar un vector\n",
    "\n",
    "`i = np.arange(10)`\n",
    "\n",
    "Este comando genera un arreglo (o un vector), con valores que van desde 0 hasta 9. Es algo muy similar a lo que hace `range(10)`, pero lo pone en un arreglo `i`\n"
   ]
  },
  {
   "cell_type": "code",
   "execution_count": null,
   "metadata": {
    "colab": {},
    "colab_type": "code",
    "id": "m0jq4L9jw0It",
    "outputId": "43574eb2-94fb-4af9-db83-c97949c0a294"
   },
   "outputs": [
    {
     "data": {
      "text/plain": [
       "array([0, 1, 2, 3, 4, 5, 6, 7, 8, 9])"
      ]
     },
     "execution_count": 53,
     "metadata": {
      "tags": []
     },
     "output_type": "execute_result"
    }
   ],
   "source": [
    "i"
   ]
  },
  {
   "cell_type": "markdown",
   "metadata": {
    "colab_type": "text",
    "id": "-3V7Q7_hw0Ix"
   },
   "source": [
    "Ahora el `for` loop es:\n",
    "\n",
    "`for y in i:`\n",
    "\n",
    "que lo que hace es que `y` tome el primer valor del arreglo, después el segundo y así sucesivamente.  \n"
   ]
  },
  {
   "cell_type": "markdown",
   "metadata": {
    "colab_type": "text",
    "id": "3syebZZ0w0Ix"
   },
   "source": [
    "### Observaciones\n",
    "\n",
    "#### La indentación es muy importante\n",
    "- No mezcle espacios y \"tabs\"\n",
    "- Python busca un número de espacios exacto en la indentación\n",
    "- Aunque no se vea, un tab no es equivalente a ocho espacios para Python.\n",
    "- Notebooks generalmente hace la indentación por Ud, pero no se confie.\n",
    "\n",
    "#### Abrir y cerrar loops\n",
    "\n",
    "- La linea con el comando `for` debe terminar con dos puntos (`:`). \n",
    "- Todo lo que se quiere dentro del loop debe estar intentado. \n",
    "- Para terminar el loop, simplemente retire la indentación. \n",
    "- A diferencia de otros lenguajes, Python no tiene un `end` para el loop."
   ]
  },
  {
   "cell_type": "markdown",
   "metadata": {
    "colab_type": "text",
    "id": "vTgfnZLOw0Ix"
   },
   "source": [
    "#### Hazlo tu mismo\n",
    "\n",
    "Genere una tabla trigonométrica, para ángulos de `ang=0,1, ..., 89` grados\n",
    "y resultados para\n",
    "\n",
    "`coseno(ang) seno(ang) tangente(ang)`\n",
    "\n",
    "****NOTA IMPORTANTE**** \n",
    "Tal como lo hacen C, Fortran o Matlab, el cálculo trigonométrico se hace\n",
    "en radianes (no grados) como argumento en las funciones trigonométricas. Por\n",
    "esto, es necesario convertir los ángulos en grados, a radianes \n",
    "\n",
    "`arad= ang*pi/180.` \n",
    "\n",
    "Y cómo sabe Python el valor de $\\pi$? \n",
    "\n",
    "El módulo `math`  el valor de $\\pi$ en la variable `math.pi`. Además\n",
    "tiene funciones para calcular coseno (math.cos), seno (math.sin), y tangente\n",
    "(math.tan) y mucho más. \n",
    "\n",
    "\n",
    "\n"
   ]
  },
  {
   "cell_type": "code",
   "execution_count": 52,
   "metadata": {
    "colab": {},
    "colab_type": "code",
    "id": "vr4-tMvdw0Ix"
   },
   "outputs": [
    {
     "name": "stdout",
     "output_type": "stream",
     "text": [
      "  seno                   coseno               tangente           \n",
      "0 0.0 1.0 0.0\n",
      "   0000001,  0.0000,  0.0000 \n",
      "1 0.01745240643728351 0.9998476951563913 0.017455064928217585\n",
      "   0000000,  0.0175,  0.0175 \n",
      "2 0.03489949670250097 0.9993908270190958 0.03492076949174773\n",
      "   0000000,  0.0349,  0.0349 \n",
      "3 0.05233595624294383 0.9986295347545738 0.052407779283041196\n",
      "   0000000,  0.0523,  0.0524 \n",
      "4 0.0697564737441253 0.9975640502598242 0.06992681194351041\n",
      "   0000000,  0.0698,  0.0699 \n",
      "5 0.08715574274765817 0.9961946980917455 0.08748866352592401\n",
      "   0000000,  0.0872,  0.0875 \n",
      "6 0.10452846326765346 0.9945218953682733 0.10510423526567646\n",
      "   0000000,  0.1045,  0.1051 \n",
      "7 0.12186934340514748 0.992546151641322 0.1227845609029046\n",
      "   0000000,  0.1219,  0.1228 \n",
      "8 0.13917310096006544 0.9902680687415704 0.14054083470239145\n",
      "   0000000,  0.1392,  0.1405 \n",
      "9 0.15643446504023087 0.9876883405951378 0.15838444032453627\n",
      "   0000000,  0.1564,  0.1584 \n",
      "10 0.17364817766693033 0.984807753012208 0.17632698070846498\n",
      "   0000000,  0.1736,  0.1763 \n",
      "11 0.1908089953765448 0.981627183447664 0.19438030913771848\n",
      "   0000000,  0.1908,  0.1944 \n",
      "12 0.20791169081775931 0.9781476007338057 0.2125565616700221\n",
      "   0000000,  0.2079,  0.2126 \n",
      "13 0.224951054343865 0.9743700647852352 0.23086819112556312\n",
      "   0000000,  0.2250,  0.2309 \n",
      "14 0.24192189559966773 0.9702957262759965 0.24932800284318068\n",
      "   0000000,  0.2419,  0.2493 \n",
      "15 0.25881904510252074 0.9659258262890683 0.2679491924311227\n",
      "   0000000,  0.2588,  0.2679 \n",
      "16 0.27563735581699916 0.9612616959383189 0.2867453857588079\n",
      "   0000000,  0.2756,  0.2867 \n",
      "17 0.29237170472273677 0.9563047559630354 0.3057306814586604\n",
      "   0000000,  0.2924,  0.3057 \n",
      "18 0.3090169943749474 0.9510565162951535 0.3249196962329063\n",
      "   0000000,  0.3090,  0.3249 \n",
      "19 0.32556815445715664 0.9455185755993168 0.3443276132896652\n",
      "   0000000,  0.3256,  0.3443 \n",
      "20 0.3420201433256687 0.9396926207859084 0.36397023426620234\n",
      "   0000000,  0.3420,  0.3640 \n",
      "21 0.35836794954530027 0.9335804264972017 0.3838640350354158\n",
      "   0000000,  0.3584,  0.3839 \n",
      "22 0.374606593415912 0.9271838545667874 0.4040262258351568\n",
      "   0000000,  0.3746,  0.4040 \n",
      "23 0.3907311284892737 0.9205048534524404 0.4244748162096047\n",
      "   0000000,  0.3907,  0.4245 \n",
      "24 0.40673664307580015 0.9135454576426009 0.4452286853085361\n",
      "   0000000,  0.4067,  0.4452 \n",
      "25 0.42261826174069944 0.9063077870366499 0.4663076581549986\n",
      "   0000000,  0.4226,  0.4663 \n",
      "26 0.4383711467890774 0.898794046299167 0.48773258856586144\n",
      "   0000000,  0.4384,  0.4877 \n",
      "27 0.45399049973954675 0.8910065241883679 0.5095254494944288\n",
      "   0000000,  0.4540,  0.5095 \n",
      "28 0.4694715627858908 0.882947592858927 0.5317094316614788\n",
      "   0000000,  0.4695,  0.5317 \n",
      "29 0.48480962024633706 0.8746197071393957 0.554309051452769\n",
      "   0000000,  0.4848,  0.5543 \n",
      "30 0.49999999999999994 0.8660254037844387 0.5773502691896257\n",
      "   0000000,  0.5000,  0.5774 \n",
      "31 0.5150380749100542 0.8571673007021123 0.6008606190275604\n",
      "   0000000,  0.5150,  0.6009 \n",
      "32 0.5299192642332049 0.848048096156426 0.6248693519093275\n",
      "   0000000,  0.5299,  0.6249 \n",
      "33 0.5446390350150271 0.838670567945424 0.6494075931975106\n",
      "   0000000,  0.5446,  0.6494 \n",
      "34 0.5591929034707469 0.8290375725550417 0.6745085168424266\n",
      "   0000000,  0.5592,  0.6745 \n",
      "35 0.573576436351046 0.8191520442889918 0.7002075382097097\n",
      "   0000000,  0.5736,  0.7002 \n",
      "36 0.5877852522924731 0.8090169943749475 0.7265425280053608\n",
      "   0000000,  0.5878,  0.7265 \n",
      "37 0.6018150231520483 0.7986355100472928 0.7535540501027942\n",
      "   0000000,  0.6018,  0.7536 \n",
      "38 0.6156614753256582 0.788010753606722 0.7812856265067173\n",
      "   0000000,  0.6157,  0.7813 \n",
      "39 0.6293203910498374 0.7771459614569709 0.809784033195007\n",
      "   0000000,  0.6293,  0.8098 \n",
      "40 0.6427876096865393 0.766044443118978 0.8390996311772799\n",
      "   0000000,  0.6428,  0.8391 \n",
      "41 0.6560590289905072 0.754709580222772 0.8692867378162265\n",
      "   0000000,  0.6561,  0.8693 \n",
      "42 0.6691306063588582 0.7431448254773942 0.9004040442978399\n",
      "   0000000,  0.6691,  0.9004 \n",
      "43 0.6819983600624985 0.7313537016191706 0.9325150861376615\n",
      "   0000000,  0.6820,  0.9325 \n",
      "44 0.6946583704589973 0.7193398003386512 0.9656887748070739\n",
      "   0000000,  0.6947,  0.9657 \n",
      "45 0.7071067811865476 0.7071067811865476 0.9999999999999999\n",
      "   0000000,  0.7071,  1.0000 \n",
      "46 0.7193398003386511 0.6946583704589974 1.0355303137905694\n",
      "   0000000,  0.7193,  1.0355 \n",
      "47 0.7313537016191705 0.6819983600624985 1.0723687100246826\n",
      "   0000000,  0.7314,  1.0724 \n",
      "48 0.7431448254773941 0.6691306063588582 1.1106125148291928\n",
      "   0000000,  0.7431,  1.1106 \n",
      "49 0.754709580222772 0.6560590289905073 1.1503684072210094\n",
      "   0000000,  0.7547,  1.1504 \n",
      "50 0.766044443118978 0.6427876096865394 1.19175359259421\n",
      "   0000000,  0.7660,  1.1918 \n",
      "51 0.7771459614569708 0.6293203910498375 1.234897156535051\n",
      "   0000000,  0.7771,  1.2349 \n",
      "52 0.788010753606722 0.6156614753256583 1.2799416321930788\n",
      "   0000000,  0.7880,  1.2799 \n",
      "53 0.7986355100472928 0.6018150231520484 1.3270448216204098\n",
      "   0000000,  0.7986,  1.3270 \n",
      "54 0.8090169943749475 0.5877852522924731 1.3763819204711734\n",
      "   0000000,  0.8090,  1.3764 \n",
      "55 0.8191520442889918 0.573576436351046 1.4281480067421144\n",
      "   0000000,  0.8192,  1.4281 \n",
      "56 0.8290375725550417 0.5591929034707468 1.4825609685127403\n",
      "   0000000,  0.8290,  1.4826 \n",
      "57 0.8386705679454239 0.5446390350150272 1.5398649638145827\n",
      "   0000000,  0.8387,  1.5399 \n",
      "58 0.8480480961564261 0.5299192642332049 1.6003345290410507\n",
      "   0000000,  0.8480,  1.6003 \n",
      "59 0.8571673007021122 0.5150380749100543 1.6642794823505174\n",
      "   0000000,  0.8572,  1.6643 \n",
      "60 0.8660254037844386 0.5000000000000001 1.7320508075688767\n",
      "   0000000,  0.8660,  1.7321 \n",
      "61 0.8746197071393957 0.4848096202463371 1.8040477552714236\n",
      "   0000000,  0.8746,  1.8040 \n",
      "62 0.8829475928589269 0.46947156278589086 1.8807264653463318\n",
      "   0000000,  0.8829,  1.8807 \n",
      "63 0.8910065241883678 0.4539904997395468 1.9626105055051504\n",
      "   0000000,  0.8910,  1.9626 \n",
      "64 0.898794046299167 0.43837114678907746 2.050303841579296\n",
      "   0000000,  0.8988,  2.0503 \n",
      "65 0.9063077870366499 0.42261826174069944 2.1445069205095586\n",
      "   0000000,  0.9063,  2.1445 \n",
      "66 0.9135454576426009 0.4067366430758002 2.2460367739042164\n",
      "   0000000,  0.9135,  2.2460 \n",
      "67 0.9205048534524403 0.39073112848927394 2.355852365823752\n",
      "   0000000,  0.9205,  2.3559 \n",
      "68 0.9271838545667874 0.37460659341591196 2.4750868534162964\n",
      "   0000000,  0.9272,  2.4751 \n",
      "69 0.9335804264972017 0.3583679495453004 2.6050890646938005\n",
      "   0000000,  0.9336,  2.6051 \n",
      "70 0.9396926207859083 0.3420201433256688 2.7474774194546216\n",
      "   0000000,  0.9397,  2.7475 \n",
      "71 0.9455185755993167 0.32556815445715676 2.904210877675822\n",
      "   0000000,  0.9455,  2.9042 \n",
      "72 0.9510565162951535 0.30901699437494745 3.0776835371752527\n",
      "   0000000,  0.9511,  3.0777 \n",
      "73 0.9563047559630354 0.29237170472273677 3.2708526184841404\n",
      "   0000000,  0.9563,  3.2709 \n",
      "74 0.9612616959383189 0.27563735581699916 3.4874144438409087\n",
      "   0000000,  0.9613,  3.4874 \n",
      "75 0.9659258262890683 0.25881904510252074 3.7320508075688776\n",
      "   0000000,  0.9659,  3.7321 \n",
      "76 0.9702957262759965 0.2419218955996679 4.010780933535842\n",
      "   0000000,  0.9703,  4.0108 \n",
      "77 0.9743700647852352 0.22495105434386492 4.331475874284157\n",
      "   0000000,  0.9744,  4.3315 \n",
      "78 0.9781476007338056 0.20791169081775945 4.704630109478451\n",
      "   0000000,  0.9781,  4.7046 \n",
      "79 0.981627183447664 0.19080899537654492 5.144554015970307\n",
      "   0000000,  0.9816,  5.1446 \n",
      "80 0.984807753012208 0.17364817766693041 5.671281819617707\n",
      "   0000000,  0.9848,  5.6713 \n",
      "81 0.9876883405951378 0.15643446504023092 6.313751514675041\n",
      "   0000000,  0.9877,  6.3138 \n",
      "82 0.9902680687415703 0.1391731009600657 7.115369722384195\n",
      "   0000000,  0.9903,  7.1154 \n",
      "83 0.992546151641322 0.12186934340514749 8.144346427974593\n",
      "   0000000,  0.9925,  8.1443 \n",
      "84 0.9945218953682733 0.10452846326765346 9.514364454222587\n",
      "   0000000,  0.9945,  9.5144 \n",
      "85 0.9961946980917455 0.08715574274765814 11.430052302761348\n",
      "   0000000,  0.9962, 11.4301 \n",
      "86 0.9975640502598242 0.06975647374412546 14.300666256711896\n",
      "   0000000,  0.9976, 14.3007 \n",
      "87 0.9986295347545738 0.052335956242943966 19.08113668772816\n",
      "   0000000,  0.9986, 19.0811 \n",
      "88 0.9993908270190958 0.03489949670250108 28.636253282915515\n",
      "   0000000,  0.9994, 28.6363 \n",
      "89 0.9998476951563913 0.017452406437283376 57.289961630759876\n",
      "   0000000,  0.9998, 57.2900 \n"
     ]
    }
   ],
   "source": [
    "# trigtable.py\n",
    "# Genera una tabla trigonométrica simple. \n",
    "# Imprima los resultados para cos, sin, tan.\n",
    "#\n",
    "\n",
    "import math\n",
    "import numpy as np\n",
    "\n",
    "pi= math.pi\n",
    "i = np.arange(90)\n",
    "\n",
    "\n",
    "\"\"\"\n",
    "Haga un loop, y calcule los tres valores\n",
    "No olvida transformar el ángulo\n",
    "\"\"\"\n",
    "\n",
    "print(\"  seno                  \",\"coseno              \",\"tangente           \")\n",
    "for y in i:\n",
    "    cos= math.cos(y*pi/180)\n",
    "    sin= math.sin(y*pi/180)\n",
    "    tan= math.tan(y*pi/180)\n",
    "    print(y,sin,cos,tan)\n",
    "    print(\"%10.7i, %7.4f, %7.4f \"%(cos,sin,tan))\n",
    "\n"
   ]
  },
  {
   "cell_type": "markdown",
   "metadata": {
    "colab_type": "text",
    "id": "gIaYI8NAw0Iz"
   },
   "source": [
    "Aunque el resultado es correcto, no es la forma más amable de presentar una tabla. "
   ]
  },
  {
   "cell_type": "code",
   "execution_count": 41,
   "metadata": {
    "colab": {},
    "colab_type": "code",
    "id": "uxltfaCDw0I0"
   },
   "outputs": [
    {
     "ename": "NameError",
     "evalue": "name 's' is not defined",
     "output_type": "error",
     "traceback": [
      "\u001b[1;31m---------------------------------------------------------------------------\u001b[0m",
      "\u001b[1;31mNameError\u001b[0m                                 Traceback (most recent call last)",
      "\u001b[1;32m<ipython-input-41-67d9c10053aa>\u001b[0m in \u001b[0;36m<module>\u001b[1;34m\u001b[0m\n\u001b[0;32m      8\u001b[0m \u001b[1;32mimport\u001b[0m \u001b[0mnumpy\u001b[0m \u001b[1;32mas\u001b[0m \u001b[0mnp\u001b[0m\u001b[1;33m\u001b[0m\u001b[1;33m\u001b[0m\u001b[0m\n\u001b[0;32m      9\u001b[0m \u001b[0mfmt\u001b[0m\u001b[1;33m=\u001b[0m\u001b[1;34m\"%10.1f, %7.4f, %7.4f, %8.4f\"\u001b[0m       \u001b[1;31m# Otra manera de hacerlo\u001b[0m\u001b[1;33m\u001b[0m\u001b[1;33m\u001b[0m\u001b[0m\n\u001b[1;32m---> 10\u001b[1;33m \u001b[0mprint\u001b[0m\u001b[1;33m(\u001b[0m\u001b[0mfmt\u001b[0m \u001b[1;33m%\u001b[0m\u001b[1;33m(\u001b[0m\u001b[0mx\u001b[0m\u001b[1;33m,\u001b[0m \u001b[0my\u001b[0m\u001b[1;33m,\u001b[0m \u001b[0mz\u001b[0m\u001b[1;33m,\u001b[0m \u001b[0ms\u001b[0m\u001b[1;33m,\u001b[0m\u001b[1;33m)\u001b[0m\u001b[1;33m)\u001b[0m\u001b[1;33m\u001b[0m\u001b[1;33m\u001b[0m\u001b[0m\n\u001b[0m\u001b[0;32m     11\u001b[0m \u001b[0mi\u001b[0m \u001b[1;33m=\u001b[0m \u001b[0mnp\u001b[0m\u001b[1;33m.\u001b[0m\u001b[0marange\u001b[0m\u001b[1;33m(\u001b[0m\u001b[1;36m90\u001b[0m\u001b[1;33m)\u001b[0m\u001b[1;33m\u001b[0m\u001b[1;33m\u001b[0m\u001b[0m\n\u001b[0;32m     12\u001b[0m \u001b[1;33m\u001b[0m\u001b[0m\n",
      "\u001b[1;31mNameError\u001b[0m: name 's' is not defined"
     ]
    }
   ],
   "source": [
    "# trigtable2.py\n",
    "# Genera una tabla trigonométrica simple. \n",
    "# Imprima los resultados para cos, sin, tan.\n",
    "#    Ahora, imprima los resultados con mejor presentación\n",
    "#\n",
    "\n",
    "import math\n",
    "import numpy as np\n",
    "fmt=\"%10.1f, %7.4f, %7.4f, %8.4f\"       # Otra manera de hacerlo\n",
    "print(fmt %(x, y, z, s,))\n",
    "i = np.arange(90)\n",
    "\n",
    "for ang in i :\n",
    "    theta = float(ang/180.*math.pi)\n",
    "    ctheta = math.cos(theta)\n",
    "    stheta = math.sin(theta)\n",
    "    ttheta = math.tan(theta)\n",
    "    \n",
    "    \"\"\"Desplegar resultados más amables\"\"\"\n",
    "    print(\"%10.1f, %7.4f, %7.4f, %8.4f\" %(ang, ctheta, stheta, ttheta))\n",
    "y=1000000\n",
    "print(\"%2.4f\" %(y))"
   ]
  },
  {
   "cell_type": "markdown",
   "metadata": {
    "colab_type": "text",
    "id": "js82jQN4w0I2"
   },
   "source": [
    "### Explicación\n",
    "\n",
    "Dentro de cada `for` loop, se calculan los cosenos, senos y tangentes del\n",
    "ángulo theta, después de convertir el ángulo `ang` a radianes. Finalmente, en cada loop, se imprime a la terminal los resultados. **Note:** el comando `print` está indentado, hace parte de cada loop.\n",
    "\n",
    "> `print (\"%5.1f, %7.4f, %7.4f, %8.4f\"\n",
    "     % (theta,ctheta,stheta,ttheta))`\n",
    "    \n",
    "donde el comando `print` tiene un formato especificado por el usuario. En este\n",
    "caso `%5.1f` ordena que la variable `theta` se imprima como un número real con 5\n",
    "espacios en total, y 1 dígito a la derecha del punto decimal. Igualmente, el uso de\n",
    "`%7.4f` ordena que `ctheta` tenga 7 espacios y 4 números a la derecha del decimal.\n",
    "Las números están justificados a la derecha. \n",
    "\n",
    "Como Python no tiene en cuenta\n",
    "espacios o saltos de linea, la continuidad del comando dentro del paréntesis es\n",
    "automático. Es decir que el comando en el bloque de código arriba, es un sólo\n",
    "comando, a pesar de usar dos lineas.\n",
    "\n"
   ]
  },
  {
   "cell_type": "markdown",
   "metadata": {
    "colab_type": "text",
    "id": "CsbntAZbw0I2"
   },
   "source": [
    "### Versiones alternativas"
   ]
  },
  {
   "cell_type": "code",
   "execution_count": null,
   "metadata": {
    "colab": {},
    "colab_type": "code",
    "id": "wAK0pRTlw0I2"
   },
   "outputs": [],
   "source": [
    "# trigtable3.py\n",
    "# Genera una tabla trigonométrica simple. \n",
    "# Imprima los resultados para cos, sin, tan.\n",
    "#    Ahora, imprima los resultados con mejor presentación\n",
    "#    Defina el formato desde el comienzo\n",
    "#\n",
    "\n",
    "from math import *                ## Del módulo o pagckage math, importe TODO (*)\n",
    "import numpy as np\n",
    "\n",
    "\"\"\"Defiona el formato acá\"\"\"\n",
    "fmt = \"%5.1f %7.4f %7.4f %8.4f \"    \n",
    "\n",
    "i = np.arange(90)\n",
    "\n",
    "for ang in i :\n",
    "    theta = float(ang/180.*pi)\n",
    "    ctheta = cos(theta)\n",
    "    stheta = sin(theta)\n",
    "    ttheta = tan(theta)\n",
    "    \n",
    "    \"\"\"Imprima al resultado\"\"\"\n"
   ]
  },
  {
   "cell_type": "markdown",
   "metadata": {
    "colab_type": "text",
    "id": "NiKPyfoSw0I4"
   },
   "source": [
    "### Explicación\n",
    "\n",
    "Se importan todas las funciones dentro del modulo `math` de tal forma\n",
    "que no hay necesidad de llamarlos con `math.cos`, sino directamente con `cos`. **Nota:** Aunque más corto de escribir, la persona que lee el código no sabe si `cos` viene del modulo `math` o de otra parte. En cuanto a *estilo* de programación, no es recomendable.\n",
    "\n",
    "\n",
    "Adicionalmente, uno puede definir una variable `fmt`, que tiene los caracteres\n",
    "que definen el formato de salida. Esto es útil cuando uno va a utilizar comandos\n",
    "`print` en múltiples ocasiones dentro de un programa. El modulo `math` tiene guardado\n",
    "el valor de $\\pi$ en la variable `pi`."
   ]
  },
  {
   "cell_type": "code",
   "execution_count": null,
   "metadata": {
    "colab": {},
    "colab_type": "code",
    "id": "jMI7m6Hew0I4"
   },
   "outputs": [],
   "source": []
  }
 ],
 "metadata": {
  "colab": {
   "name": "chap02_lab.ipynb",
   "provenance": []
  },
  "kernelspec": {
   "display_name": "Python 3",
   "language": "python",
   "name": "python3"
  },
  "language_info": {
   "codemirror_mode": {
    "name": "ipython",
    "version": 3
   },
   "file_extension": ".py",
   "mimetype": "text/x-python",
   "name": "python",
   "nbconvert_exporter": "python",
   "pygments_lexer": "ipython3",
   "version": "3.7.8"
  }
 },
 "nbformat": 4,
 "nbformat_minor": 1
}
