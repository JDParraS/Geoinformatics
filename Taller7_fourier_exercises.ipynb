{
 "cells": [
  {
   "cell_type": "markdown",
   "metadata": {},
   "source": [
    "# Capítulo 9 - Ejercicios\n",
    "## Análisis de Fourier\n"
   ]
  },
  {
   "cell_type": "markdown",
   "metadata": {},
   "source": [
    "Para haer un análisis de series de datos, vamos a utilizar datos reales de sciencedatabase.gov, que tienen información temporal y espacial geocientífica.  Los tres archivos que vamos a trabajar son\n",
    "- `MON_P_CRU_19012015.csv`\n",
    "- `MON_T_CRU_19012015.csv`\n",
    "- `BASIN_CHARACTERISTICS.csv`\n",
    "\n",
    "El artículo se puede encontrar con la siguiente referencia: Kam, Jonghun, Milly, P.C.D., and Dunne, K.A., 2018, Monthly Time Series of Precipitation, Air Temperature, and Net Radiation for 2,673 Gaged River Basins Worldwide: U.S. Geological Survey data release, https://doi.org/10.5066/F7SJ1JVG.\n",
    "\n",
    "Los archivos (separados por comas) tienen un gran número de estaciones y para cada estación valores mensuales de Temperatura y Precipitación. El tercer archivo, tiene la información de la ubicación de cada sitio. Lat/Lon/Elev y área de cada cuenca. \n",
    "\n",
    "Fuente de los datos: \n",
    "https://www.sciencebase.gov/catalog/item/5a58af4fe4b00b291cd6a5fb\n",
    "\n",
    "**Este trabajo incluye tanto la calidad y presentación de las figuras, como su capacidad de análisis y presentación de datos**.\n"
   ]
  },
  {
   "cell_type": "code",
   "execution_count": null,
   "metadata": {},
   "outputs": [],
   "source": []
  },
  {
   "cell_type": "markdown",
   "metadata": {},
   "source": [
    "## Ejercicio\n",
    "\n",
    "En meteorología y climatología se estudia el régimen de temperaturas de\n",
    "lluvias y precipitación. En particular en la región andina, el régimen bimodal es común, pero pueden existir lugares con regímenes diferentes (unimodal por ejemplo). Muchas veces esto se observa en los histogramas de precipitación o temperatura, aunque también podemos hacer el análisis con métodos de Fourier. \n",
    "\n",
    "Seleccione por lo menos 3 estaciones para trabajar, ojalá de lugares distintos. \n",
    "\n",
    "1. Hacer histogramas de por lo menos 3 estaciones para mostrar los regímenes de T y P.Mostrar en un mapa las estaciones que usó. \n",
    "2. Verificar el comportamiento cíclico con los espectros de amplitudes o potencia para esas estaciones. \n",
    "3. Muestre gráficamente los picos más relevantes del espectro. Qué significan? Qué representan? \n",
    "4. Interprete los resultados y compare las 3 o más estaciones que trabajó. Cúal método le parece mejor? Por qué?\n",
    "\n",
    "\n"
   ]
  }
 ],
 "metadata": {
  "kernelspec": {
   "display_name": "Python 3",
   "language": "python",
   "name": "python3"
  },
  "language_info": {
   "codemirror_mode": {
    "name": "ipython",
    "version": 3
   },
   "file_extension": ".py",
   "mimetype": "text/x-python",
   "name": "python",
   "nbconvert_exporter": "python",
   "pygments_lexer": "ipython3",
   "version": "3.7.8"
  }
 },
 "nbformat": 4,
 "nbformat_minor": 4
}
